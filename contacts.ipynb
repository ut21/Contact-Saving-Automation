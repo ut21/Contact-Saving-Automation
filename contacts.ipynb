{
 "cells": [
  {
   "cell_type": "code",
   "execution_count": null,
   "metadata": {},
   "outputs": [],
   "source": [
    "import pandas as pd\n",
    "#inital data cleaning\n",
    "df = pd.read_csv('file.csv')\n",
    "#format mobile number to 10 digits\n",
    "df['Mobile No.'] = df['Mobile No.'].astype(str).str.replace(' ', '')\n",
    "\n",
    "df1 = df[df['Mobile No.'].str.contains(',')]\n",
    "df1['Mobile No.'] = df1['Mobile No.'].str.split(',')\n",
    "df1['Coordinator'] = df1['Coordinator'].apply(lambda x: x.split(',') if len(x.split(',')) != 1 else [x for i in range(2)])\n",
    "df1 = df1.explode(['Mobile No.', 'Coordinator'])\n",
    "\n",
    "# remove all elements with multiple mobile numbers\n",
    "df = df[~df['Mobile No.'].str.contains(',')]\n",
    "\n",
    "# add the new rows to the original dataframe\n",
    "df = df.append(df1, ignore_index=True)\n",
    "df"
   ]
  },
  {
   "cell_type": "code",
   "execution_count": null,
   "metadata": {},
   "outputs": [],
   "source": [
    "def make_vcard(\n",
    "        first_name,\n",
    "        last_name,\n",
    "        phone):\n",
    "    return [\n",
    "        'BEGIN:VCARD',\n",
    "        'VERSION:3.0',\n",
    "        f'N:{last_name};{first_name}',\n",
    "        f'FN:{first_name} {last_name}',\n",
    "        f'TEL;TYPE=CELL:+91{phone}',\n",
    "        'END:VCARD'\n",
    "    ]"
   ]
  },
  {
   "cell_type": "code",
   "execution_count": null,
   "metadata": {},
   "outputs": [],
   "source": [
    "make_vcard(\"first_name\", \"Last_name\", \"1234567890\")"
   ]
  },
  {
   "cell_type": "code",
   "execution_count": null,
   "metadata": {},
   "outputs": [],
   "source": [
    "vcards = []\n",
    "\n",
    "for index, row in df.iterrows():\n",
    "    # print(index, row['Mobile No.'], row['Coordinator'], row['Clubs'])\n",
    "    # print(row['Mobile No.'], row['Coordinator'], row['Clubs'])\n",
    "    # split into first and last name\n",
    "    names = row['Coordinator'].split(' ')\n",
    "    if len(names) == 1:\n",
    "        first_name = names[0]\n",
    "        last_name = ''\n",
    "    else:\n",
    "        first_name = names[0]\n",
    "        last_name = names[1]\n",
    "\n",
    "    vcard = make_vcard(first_name, f\"{last_name} {row['Clubs']}\", row['Mobile No.'])\n",
    "    vcards.append(vcard)\n",
    "\n",
    "vcards"
   ]
  },
  {
   "cell_type": "code",
   "execution_count": null,
   "metadata": {},
   "outputs": [],
   "source": [
    "with open('contacts.vcf', 'w') as f:\n",
    "    for vcard in vcards:\n",
    "        f.writelines([l + '\\n' for l in vcard])"
   ]
  }
 ],
 "metadata": {
  "language_info": {
   "name": "python"
  },
  "orig_nbformat": 4
 },
 "nbformat": 4,
 "nbformat_minor": 2
}
